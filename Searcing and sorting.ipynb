{
 "cells": [
  {
   "cell_type": "markdown",
   "id": "48e5c17f",
   "metadata": {},
   "source": [
    "ANS1"
   ]
  },
  {
   "cell_type": "code",
   "execution_count": null,
   "id": "705ac0b7",
   "metadata": {},
   "outputs": [],
   "source": [
    "def twoSum(numbers, target):\n",
    "    left = 0\n",
    "    right = len(numbers) - 1\n",
    "    \n",
    "    while left < right:\n",
    "        current_sum = numbers[left] + numbers[right]\n",
    "        \n",
    "        if current_sum == target:\n",
    "            return [left + 1, right + 1]  \n",
    "        \n",
    "        elif current_sum < target:\n",
    "            left += 1\n",
    "        \n",
    "        else:  \n",
    "            right -= 1\n",
    "    \n",
    "    return None  \n",
    "\n",
    "numbers = [2, 7, 11, 15]\n",
    "target = 9\n",
    "result = twoSum(numbers, target)\n",
    "print(result)\n"
   ]
  },
  {
   "cell_type": "markdown",
   "id": "7619d923",
   "metadata": {},
   "source": [
    "ANS2"
   ]
  },
  {
   "cell_type": "code",
   "execution_count": 1,
   "id": "852dcbf8",
   "metadata": {},
   "outputs": [
    {
     "name": "stdout",
     "output_type": "stream",
     "text": [
      "[3, 4]\n"
     ]
    }
   ],
   "source": [
    "def searchRange(nums, target):\n",
    "    def findLeft(nums, target):\n",
    "        left, right = 0, len(nums) - 1\n",
    "        while left <= right:\n",
    "            mid = left + (right - left) // 2\n",
    "            if nums[mid] < target:\n",
    "                left = mid + 1\n",
    "            else:\n",
    "                right = mid - 1\n",
    "        return left\n",
    "\n",
    "    def findRight(nums, target):\n",
    "        left, right = 0, len(nums) - 1\n",
    "        while left <= right:\n",
    "            mid = left + (right - left) // 2\n",
    "            if nums[mid] <= target:\n",
    "                left = mid + 1\n",
    "            else:\n",
    "                right = mid - 1\n",
    "        return right\n",
    "\n",
    "    left_pos = findLeft(nums, target)\n",
    "    right_pos = findRight(nums, target)\n",
    "\n",
    "    if left_pos <= right_pos:\n",
    "        return [left_pos, right_pos]\n",
    "    else:\n",
    "        return [-1, -1]\n",
    "\n",
    "\n",
    "nums = [5, 7, 7, 8, 8, 10]\n",
    "target = 8\n",
    "result = searchRange(nums, target)\n",
    "print(result)  # Output: [3, 4]\n"
   ]
  },
  {
   "cell_type": "markdown",
   "id": "44c8612d",
   "metadata": {},
   "source": [
    "ANS3"
   ]
  },
  {
   "cell_type": "code",
   "execution_count": 5,
   "id": "6dd4f679",
   "metadata": {},
   "outputs": [
    {
     "name": "stdout",
     "output_type": "stream",
     "text": [
      "2\n"
     ]
    }
   ],
   "source": [
    "def findPeakElement(nums):\n",
    "    left, right = 0, len(nums) - 1\n",
    "    \n",
    "    while left < right:\n",
    "        mid = (left + right) // 2\n",
    "        \n",
    "        if nums[mid] > nums[mid + 1]:\n",
    "            right = mid\n",
    "        else:\n",
    "            left = mid + 1\n",
    "    \n",
    "    return left\n",
    "\n",
    "nums = [1, 2, 3, 1]\n",
    "result = findPeakElement(nums)\n",
    "print(result)  # Output: 2\n"
   ]
  },
  {
   "cell_type": "markdown",
   "id": "587cae9c",
   "metadata": {},
   "source": [
    "ANS4"
   ]
  },
  {
   "cell_type": "code",
   "execution_count": 8,
   "id": "06d7f5cf",
   "metadata": {},
   "outputs": [
    {
     "name": "stdout",
     "output_type": "stream",
     "text": [
      "2\n",
      "4\n"
     ]
    }
   ],
   "source": [
    "def find_index(arr,target):\n",
    "    left,right = 0,len(arr)-1\n",
    "    while left <= right:\n",
    "        mid = left+(right-left)//2\n",
    "        if arr[mid]== target:\n",
    "            return mid\n",
    "        elif arr[mid]<target:\n",
    "            left = mid+1\n",
    "        else:\n",
    "            right = mid-1\n",
    "    return left\n",
    "\n",
    "arr1 = [1, 3, 5, 6]\n",
    "target1 = 5\n",
    "result1 = find_index(arr1,target1)\n",
    "print(result1)  # Output: 2\n",
    "\n",
    "# Example 2\n",
    "arr2 = [1, 3, 5, 6]\n",
    "target2 = 7\n",
    "result2 = find_index(arr2,target2)\n",
    "print(result2)  # Output: 4\n",
    "            "
   ]
  },
  {
   "cell_type": "markdown",
   "id": "4fd9dbb2",
   "metadata": {},
   "source": [
    "\n",
    "ANS5"
   ]
  },
  {
   "cell_type": "code",
   "execution_count": 14,
   "id": "4d4057e7",
   "metadata": {},
   "outputs": [
    {
     "name": "stdout",
     "output_type": "stream",
     "text": [
      "4\n"
     ]
    }
   ],
   "source": [
    "def findMajorityElement(nums):\n",
    "    count = 0\n",
    "    candidate = None\n",
    "\n",
    "    for num in nums:\n",
    "        if count == 0:\n",
    "            candidate = num\n",
    "            count = 1\n",
    "        elif candidate == num:\n",
    "            count += 1\n",
    "        else:\n",
    "            count -= 1\n",
    "\n",
    "    return candidate\n",
    "\n",
    "# Example\n",
    "arr = [3, 3, 4, 2, 4, 4, 2, 4, 4]\n",
    "majority_element = findMajorityElement(arr)\n",
    "print(majority_element)\n",
    "\n",
    "            \n",
    "            "
   ]
  },
  {
   "cell_type": "markdown",
   "id": "38cad4ee",
   "metadata": {},
   "source": [
    "ANS6"
   ]
  },
  {
   "cell_type": "code",
   "execution_count": 16,
   "id": "15d0c23f",
   "metadata": {},
   "outputs": [
    {
     "name": "stdout",
     "output_type": "stream",
     "text": [
      "3\n"
     ]
    }
   ],
   "source": [
    "def merge(arr, temp, left, mid, right):\n",
    "    i = left\n",
    "    j = mid + 1\n",
    "    k = left\n",
    "    inv_count = 0\n",
    "\n",
    "    while i <= mid and j <= right:\n",
    "        if arr[i] <= arr[j]:\n",
    "            temp[k] = arr[i]\n",
    "            i += 1\n",
    "        else:\n",
    "            temp[k] = arr[j]\n",
    "            inv_count += mid - i + 1\n",
    "            j += 1\n",
    "        k += 1\n",
    "\n",
    "    while i <= mid:\n",
    "        temp[k] = arr[i]\n",
    "        i += 1\n",
    "        k += 1\n",
    "\n",
    "    while j <= right:\n",
    "        temp[k] = arr[j]\n",
    "        j += 1\n",
    "        k += 1\n",
    "\n",
    "    for idx in range(left, right + 1):\n",
    "        arr[idx] = temp[idx]\n",
    "\n",
    "    return inv_count\n",
    "\n",
    "\n",
    "def mergeSort(arr, temp, left, right):\n",
    "    inv_count = 0\n",
    "\n",
    "    if left < right:\n",
    "        mid = (left + right) // 2\n",
    "        inv_count += mergeSort(arr, temp, left, mid)\n",
    "        inv_count += mergeSort(arr, temp, mid + 1, right)\n",
    "        inv_count += merge(arr, temp, left, mid, right)\n",
    "\n",
    "    return inv_count\n",
    "\n",
    "\n",
    "def inversionCount(arr):\n",
    "    n = len(arr)\n",
    "    temp = [0] * n\n",
    "    return mergeSort(arr, temp, 0, n - 1)\n",
    "\n",
    "\n",
    "# Example\n",
    "arr = [2, 4, 1, 3, 5]\n",
    "result = inversionCount(arr)\n",
    "print(result)"
   ]
  },
  {
   "cell_type": "markdown",
   "id": "035a8585",
   "metadata": {},
   "source": [
    "ANS7"
   ]
  },
  {
   "cell_type": "code",
   "execution_count": 18,
   "id": "f59b2b57",
   "metadata": {},
   "outputs": [
    {
     "name": "stdout",
     "output_type": "stream",
     "text": [
      "[20, 80]\n"
     ]
    }
   ],
   "source": [
    "def findCommonElements(ar1, ar2, ar3):\n",
    "    n1, n2, n3 = len(ar1), len(ar2), len(ar3)\n",
    "    i, j, k = 0, 0, 0\n",
    "    common_elements = []\n",
    "\n",
    "    while i < n1 and j < n2 and k < n3:\n",
    "        if ar1[i] == ar2[j] == ar3[k]:\n",
    "            common_elements.append(ar1[i])\n",
    "            i += 1\n",
    "            j += 1\n",
    "            k += 1\n",
    "        elif ar1[i] < ar2[j]:\n",
    "            i += 1\n",
    "        elif ar2[j] < ar3[k]:\n",
    "            j += 1\n",
    "        else:\n",
    "            k += 1\n",
    "\n",
    "    return common_elements\n",
    "\n",
    "\n",
    "# Example\n",
    "ar1 = [1, 5, 10, 20, 40, 80]\n",
    "ar2 = [6, 7, 20, 80, 100]\n",
    "ar3 = [3, 4, 15, 20, 30, 70, 80, 120]\n",
    "\n",
    "print(findCommonElements(ar1, ar2, ar3))"
   ]
  },
  {
   "cell_type": "code",
   "execution_count": null,
   "id": "6518ec46",
   "metadata": {},
   "outputs": [],
   "source": []
  }
 ],
 "metadata": {
  "kernelspec": {
   "display_name": "Python 3 (ipykernel)",
   "language": "python",
   "name": "python3"
  },
  "language_info": {
   "codemirror_mode": {
    "name": "ipython",
    "version": 3
   },
   "file_extension": ".py",
   "mimetype": "text/x-python",
   "name": "python",
   "nbconvert_exporter": "python",
   "pygments_lexer": "ipython3",
   "version": "3.10.9"
  }
 },
 "nbformat": 4,
 "nbformat_minor": 5
}
