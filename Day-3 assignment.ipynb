{
 "cells": [
  {
   "cell_type": "markdown",
   "id": "8de4e17f",
   "metadata": {},
   "source": [
    "ANS1"
   ]
  },
  {
   "cell_type": "code",
   "execution_count": 1,
   "id": "8aa74a74",
   "metadata": {},
   "outputs": [
    {
     "name": "stdout",
     "output_type": "stream",
     "text": [
      "Region_a_mean 11.8\n",
      "Region_b_mean 20.2\n"
     ]
    }
   ],
   "source": [
    "sales_region_for_A = [10, 15, 12, 8, 14]\n",
    "sales_region_for_B = [18, 20, 16, 22, 25]\n",
    "\n",
    "region_a_mean = sum(sales_region_for_A)/len(sales_region_for_A)\n",
    "region_b_mean = sum(sales_region_for_B)/len(sales_region_for_B)\n",
    "\n",
    "print(\"Region_a_mean\",region_a_mean)\n",
    "print(\"Region_b_mean\",region_b_mean)"
   ]
  },
  {
   "cell_type": "markdown",
   "id": "52b31a8d",
   "metadata": {},
   "source": [
    "ANS2"
   ]
  },
  {
   "cell_type": "code",
   "execution_count": 3,
   "id": "8281fbf3",
   "metadata": {},
   "outputs": [
    {
     "name": "stdout",
     "output_type": "stream",
     "text": [
      "mode of the satisfaction: 4\n"
     ]
    }
   ],
   "source": [
    "import statistics\n",
    "mode_of_satisfaction =  [4, 5, 2, 3, 5, 4, 3, 2, 4, 5]\n",
    "\n",
    "mode = statistics.mode(mode_of_satisfaction)\n",
    "\n",
    "print(\"mode of the satisfaction:\",mode)\n"
   ]
  },
  {
   "cell_type": "markdown",
   "id": "0685b679",
   "metadata": {},
   "source": [
    "ANS3"
   ]
  },
  {
   "cell_type": "code",
   "execution_count": 5,
   "id": "e76e7272",
   "metadata": {},
   "outputs": [
    {
     "name": "stdout",
     "output_type": "stream",
     "text": [
      "Median for company a: 5750.0\n",
      "Median for company b: 5500\n"
     ]
    }
   ],
   "source": [
    "import statistics\n",
    "median_data_company_A = [5000, 6000, 5500, 7000]\n",
    "median_data_company_B = [4500, 5500, 5800, 6000, 5200]\n",
    "\n",
    "median_A =statistics.median(median_data_company_A) \n",
    "median_B = statistics.median(median_data_company_B)\n",
    "\n",
    "print(\"Median for company a:\",median_A)\n",
    "print(\"Median for company b:\",median_B)"
   ]
  },
  {
   "cell_type": "markdown",
   "id": "36b8ad42",
   "metadata": {},
   "source": [
    "ANS4"
   ]
  },
  {
   "cell_type": "code",
   "execution_count": 6,
   "id": "57661a2e",
   "metadata": {},
   "outputs": [
    {
     "name": "stdout",
     "output_type": "stream",
     "text": [
      "Range of stock prices: 1.3000000000000007\n"
     ]
    }
   ],
   "source": [
    "\n",
    "stock_prices = [25.5, 24.8, 26.1, 25.3, 24.9]\n",
    "\n",
    "\n",
    "price_range = max(stock_prices) - min(stock_prices)\n",
    "\n",
    "\n",
    "print(\"Range of stock prices:\", price_range)\n"
   ]
  },
  {
   "cell_type": "markdown",
   "id": "fac2212b",
   "metadata": {},
   "source": [
    "ANS5"
   ]
  },
  {
   "cell_type": "code",
   "execution_count": 7,
   "id": "78137786",
   "metadata": {},
   "outputs": [
    {
     "name": "stdout",
     "output_type": "stream",
     "text": [
      "T-Statistic: 1.4312528946642733\n",
      "P-Value: 0.19023970239078333\n"
     ]
    }
   ],
   "source": [
    "from scipy import stats\n",
    "\n",
    "\n",
    "group_a_scores = [85, 90, 92, 88, 91]\n",
    "group_b_scores = [82, 88, 90, 86, 87]\n",
    "\n",
    "\n",
    "t_statistic, p_value = stats.ttest_ind(group_a_scores, group_b_scores)\n",
    "\n",
    "\n",
    "print(\"T-Statistic:\", t_statistic)\n",
    "print(\"P-Value:\", p_value)\n"
   ]
  },
  {
   "cell_type": "markdown",
   "id": "cfeb334e",
   "metadata": {},
   "source": [
    "ANS6"
   ]
  },
  {
   "cell_type": "code",
   "execution_count": 8,
   "id": "bf25ab52",
   "metadata": {},
   "outputs": [
    {
     "name": "stdout",
     "output_type": "stream",
     "text": [
      "Correlation coefficient: 0.8757511375750132\n"
     ]
    }
   ],
   "source": [
    "import pandas as pd\n",
    "\n",
    "\n",
    "advertising_expenditure = [10, 15, 12, 8, 14]\n",
    "sales = [25, 30, 28, 20, 26]\n",
    "\n",
    "\n",
    "df = pd.DataFrame({'Advertising Expenditure': advertising_expenditure, 'Sales': sales})\n",
    "\n",
    "\n",
    "correlation = df['Advertising Expenditure'].corr(df['Sales'])\n",
    "\n",
    "\n",
    "print(\"Correlation coefficient:\", correlation)\n"
   ]
  },
  {
   "cell_type": "markdown",
   "id": "47cdcfcc",
   "metadata": {},
   "source": [
    "ANS7"
   ]
  },
  {
   "cell_type": "code",
   "execution_count": 9,
   "id": "3afbae4b",
   "metadata": {},
   "outputs": [
    {
     "name": "stdout",
     "output_type": "stream",
     "text": [
      "Standard deviation of heights: 8.591246929842246\n"
     ]
    }
   ],
   "source": [
    "import statistics\n",
    "\n",
    "\n",
    "heights = [160, 170, 165, 155, 175, 180, 170]\n",
    "\n",
    "\n",
    "std_dev = statistics.stdev(heights)\n",
    "\n",
    "\n",
    "print(\"Standard deviation of heights:\", std_dev)\n"
   ]
  },
  {
   "cell_type": "markdown",
   "id": "00a31965",
   "metadata": {},
   "source": [
    "ANS8"
   ]
  },
  {
   "cell_type": "code",
   "execution_count": 10,
   "id": "c3b72597",
   "metadata": {},
   "outputs": [
    {
     "name": "stdout",
     "output_type": "stream",
     "text": [
      "                            OLS Regression Results                            \n",
      "==============================================================================\n",
      "Dep. Variable:                      y   R-squared:                       0.271\n",
      "Model:                            OLS   Adj. R-squared:                  0.125\n",
      "Method:                 Least Squares   F-statistic:                     1.859\n",
      "Date:                Sat, 08 Jul 2023   Prob (F-statistic):              0.231\n",
      "Time:                        10:25:40   Log-Likelihood:                -10.362\n",
      "No. Observations:                   7   AIC:                             24.72\n",
      "Df Residuals:                       5   BIC:                             24.62\n",
      "Df Model:                           1                                         \n",
      "Covariance Type:            nonrobust                                         \n",
      "==============================================================================\n",
      "                 coef    std err          t      P>|t|      [0.025      0.975]\n",
      "------------------------------------------------------------------------------\n",
      "const          8.5957      1.361      6.316      0.001       5.097      12.094\n",
      "x1            -0.4681      0.343     -1.363      0.231      -1.351       0.414\n",
      "==============================================================================\n",
      "Omnibus:                          nan   Durbin-Watson:                   2.414\n",
      "Prob(Omnibus):                    nan   Jarque-Bera (JB):                1.954\n",
      "Skew:                           1.292   Prob(JB):                        0.376\n",
      "Kurtosis:                       3.166   Cond. No.                         12.0\n",
      "==============================================================================\n",
      "\n",
      "Notes:\n",
      "[1] Standard Errors assume that the covariance matrix of the errors is correctly specified.\n"
     ]
    },
    {
     "name": "stderr",
     "output_type": "stream",
     "text": [
      "C:\\Users\\DEEP\\anaconda3\\123\\lib\\site-packages\\statsmodels\\stats\\stattools.py:74: ValueWarning: omni_normtest is not valid with less than 8 observations; 7 samples were given.\n",
      "  warn(\"omni_normtest is not valid with less than 8 observations; %i \"\n"
     ]
    }
   ],
   "source": [
    "import statsmodels.api as sm\n",
    "import numpy as np\n",
    "\n",
    "\n",
    "employee_tenure = [2, 3, 5, 4, 6, 2, 4]\n",
    "job_satisfaction = [7, 8, 6, 9, 5, 7, 6]\n",
    "\n",
    "\n",
    "X = sm.add_constant(employee_tenure)\n",
    "\n",
    "\n",
    "model = sm.OLS(job_satisfaction, X)\n",
    "results = model.fit()\n",
    "\n",
    "print(results.summary())\n"
   ]
  },
  {
   "cell_type": "markdown",
   "id": "557195e0",
   "metadata": {},
   "source": [
    "ANS9"
   ]
  },
  {
   "cell_type": "code",
   "execution_count": 11,
   "id": "6675dd16",
   "metadata": {},
   "outputs": [
    {
     "name": "stdout",
     "output_type": "stream",
     "text": [
      "F-Statistic: 16.0\n",
      "P-Value: 0.003949772803445326\n"
     ]
    }
   ],
   "source": [
    "from scipy import stats\n",
    "\n",
    "\n",
    "medication_a_times = [10, 12, 14, 11, 13]\n",
    "medication_b_times = [15, 17, 16, 14, 18]\n",
    "\n",
    "\n",
    "f_statistic, p_value = stats.f_oneway(medication_a_times, medication_b_times)\n",
    "\n",
    "\n",
    "print(\"F-Statistic:\", f_statistic)\n",
    "print(\"P-Value:\", p_value)\n"
   ]
  },
  {
   "cell_type": "markdown",
   "id": "46ba2de7",
   "metadata": {},
   "source": [
    "ANS10"
   ]
  },
  {
   "cell_type": "code",
   "execution_count": 12,
   "id": "fc7eb72d",
   "metadata": {},
   "outputs": [
    {
     "name": "stdout",
     "output_type": "stream",
     "text": [
      "75th percentile: 8.75\n"
     ]
    }
   ],
   "source": [
    "import numpy as np\n",
    "per =   [8, 9, 7, 6, 8, 10, 9, 8, 7, 8]\n",
    "\n",
    "percintile = np.percentile(per,75)\n",
    "\n",
    "print(\"75th percentile:\",percintile)\n",
    "\n",
    "\n",
    "\n",
    "\n"
   ]
  },
  {
   "cell_type": "markdown",
   "id": "65bc9fd7",
   "metadata": {},
   "source": [
    "ANS11"
   ]
  },
  {
   "cell_type": "code",
   "execution_count": 13,
   "id": "ff8ef135",
   "metadata": {},
   "outputs": [
    {
     "name": "stdout",
     "output_type": "stream",
     "text": [
      "T-Statistic: 1.5126584522688367\n",
      "P-Value: 0.19077595151110102\n"
     ]
    }
   ],
   "source": [
    "from scipy import stats\n",
    "\n",
    "\n",
    "weights = [10.2, 9.8, 10.0, 10.5, 10.3, 10.1]\n",
    "\n",
    "\n",
    "t_statistic, p_value = stats.ttest_1samp(weights, 10)\n",
    "\n",
    "print(\"T-Statistic:\", t_statistic)\n",
    "print(\"P-Value:\", p_value)\n"
   ]
  },
  {
   "cell_type": "markdown",
   "id": "9295b32e",
   "metadata": {},
   "source": [
    "ANS13"
   ]
  },
  {
   "cell_type": "code",
   "execution_count": 16,
   "id": "c087bee1",
   "metadata": {},
   "outputs": [
    {
     "name": "stdout",
     "output_type": "stream",
     "text": [
      "95% Confidence Interval: (7.043561120599888, 8.756438879400113)\n"
     ]
    }
   ],
   "source": [
    "\n",
    "from scipy import stats\n",
    "import numpy as np\n",
    "\n",
    "\n",
    "scores = [7, 9, 6, 8, 10, 7, 8, 9, 7, 8]\n",
    "\n",
    "\n",
    "sample_mean = np.mean(scores)\n",
    "standard_error = stats.sem(scores)\n",
    "\n",
    "confidence_interval = stats.t.interval(0.95, len(scores) - 1, loc=sample_mean, scale=standard_error)\n",
    "\n",
    "\n",
    "print(\"95% Confidence Interval:\", confidence_interval)\n"
   ]
  },
  {
   "cell_type": "markdown",
   "id": "e1621f51",
   "metadata": {},
   "source": [
    "ANS14"
   ]
  },
  {
   "cell_type": "code",
   "execution_count": 17,
   "id": "f36791ce",
   "metadata": {},
   "outputs": [
    {
     "name": "stdout",
     "output_type": "stream",
     "text": [
      "                            OLS Regression Results                            \n",
      "==============================================================================\n",
      "Dep. Variable:                      y   R-squared:                       0.481\n",
      "Model:                            OLS   Adj. R-squared:                  0.308\n",
      "Method:                 Least Squares   F-statistic:                     2.778\n",
      "Date:                Sat, 08 Jul 2023   Prob (F-statistic):              0.194\n",
      "Time:                        10:38:47   Log-Likelihood:                -5.5542\n",
      "No. Observations:                   5   AIC:                             15.11\n",
      "Df Residuals:                       3   BIC:                             14.33\n",
      "Df Model:                           1                                         \n",
      "Covariance Type:            nonrobust                                         \n",
      "==============================================================================\n",
      "                 coef    std err          t      P>|t|      [0.025      0.975]\n",
      "------------------------------------------------------------------------------\n",
      "const         -2.9000      6.314     -0.459      0.677     -22.995      17.195\n",
      "x1             0.5000      0.300      1.667      0.194      -0.455       1.455\n",
      "==============================================================================\n",
      "Omnibus:                          nan   Durbin-Watson:                   3.056\n",
      "Prob(Omnibus):                    nan   Jarque-Bera (JB):                0.522\n",
      "Skew:                          -0.348   Prob(JB):                        0.770\n",
      "Kurtosis:                       1.578   Cond. No.                         314.\n",
      "==============================================================================\n",
      "\n",
      "Notes:\n",
      "[1] Standard Errors assume that the covariance matrix of the errors is correctly specified.\n"
     ]
    },
    {
     "name": "stderr",
     "output_type": "stream",
     "text": [
      "C:\\Users\\DEEP\\anaconda3\\123\\lib\\site-packages\\statsmodels\\stats\\stattools.py:74: ValueWarning: omni_normtest is not valid with less than 8 observations; 5 samples were given.\n",
      "  warn(\"omni_normtest is not valid with less than 8 observations; %i \"\n"
     ]
    }
   ],
   "source": [
    "import statsmodels.api as sm\n",
    "import numpy as np\n",
    "\n",
    "\n",
    "temperature = [20, 22, 23, 19, 21]\n",
    "performance = [8, 7, 9, 6, 8]\n",
    "\n",
    "\n",
    "X = sm.add_constant(temperature)\n",
    "\n",
    "\n",
    "model = sm.OLS(performance, X)\n",
    "results = model.fit()\n",
    "\n",
    "# Print the model summary\n",
    "print(results.summary())\n"
   ]
  },
  {
   "cell_type": "markdown",
   "id": "a43de655",
   "metadata": {},
   "source": [
    "ANS15"
   ]
  },
  {
   "cell_type": "code",
   "execution_count": 18,
   "id": "81eb7d32",
   "metadata": {},
   "outputs": [
    {
     "name": "stdout",
     "output_type": "stream",
     "text": [
      "Test Statistic: 17.0\n",
      "P-Value: 0.380836480306712\n"
     ]
    }
   ],
   "source": [
    "from scipy import stats\n",
    "\n",
    "\n",
    "group_a_preferences = [4, 3, 5, 2, 4]\n",
    "group_b_preferences = [3, 2, 4, 3, 3]\n",
    "\n",
    "\n",
    "statistic, p_value = stats.mannwhitneyu(group_a_preferences, group_b_preferences)\n",
    "\n",
    "# Print the test statistic and p-value\n",
    "print(\"Test Statistic:\", statistic)\n",
    "print(\"P-Value:\", p_value)\n"
   ]
  },
  {
   "cell_type": "markdown",
   "id": "fc6a811a",
   "metadata": {},
   "source": [
    "ANS16"
   ]
  },
  {
   "cell_type": "code",
   "execution_count": 19,
   "id": "a90f6213",
   "metadata": {},
   "outputs": [
    {
     "name": "stdout",
     "output_type": "stream",
     "text": [
      "Interquartile Range (IQR) of ages: 22.5\n"
     ]
    }
   ],
   "source": [
    "import numpy as np\n",
    "\n",
    "\n",
    "ages = [25, 30, 35, 40, 45, 50, 55, 60, 65, 70]\n",
    "\n",
    "# Calculate the interquartile range (IQR)\n",
    "iqr = np.percentile(ages, 75) - np.percentile(ages, 25)\n",
    "\n",
    "# Print the interquartile range\n",
    "print(\"Interquartile Range (IQR) of ages:\", iqr)\n"
   ]
  },
  {
   "cell_type": "markdown",
   "id": "53f78bf8",
   "metadata": {},
   "source": [
    "ANS17"
   ]
  },
  {
   "cell_type": "code",
   "execution_count": 21,
   "id": "9b29e67f",
   "metadata": {},
   "outputs": [
    {
     "name": "stdout",
     "output_type": "stream",
     "text": [
      "Test Statistic: 9.696947935368053\n",
      "P-Value: 0.007840333026249539\n"
     ]
    }
   ],
   "source": [
    "from scipy import stats\n",
    "\n",
    "\n",
    "algorithm_a_scores = [0.85, 0.80, 0.82, 0.87, 0.83]\n",
    "algorithm_b_scores = [0.78, 0.82, 0.84, 0.80, 0.79]\n",
    "algorithm_c_scores = [0.90, 0.88, 0.89, 0.86, 0.87]\n",
    "\n",
    "#\n",
    "statistic, p_value = stats.kruskal(algorithm_a_scores, algorithm_b_scores, algorithm_c_scores)\n",
    "\n",
    "# Print the test statistic and p-value\n",
    "print(\"Test Statistic:\", statistic)\n",
    "print(\"P-Value:\", p_value)\n"
   ]
  },
  {
   "cell_type": "markdown",
   "id": "cf318c33",
   "metadata": {},
   "source": [
    "ANS18"
   ]
  },
  {
   "cell_type": "code",
   "execution_count": 22,
   "id": "bf907dda",
   "metadata": {},
   "outputs": [
    {
     "name": "stdout",
     "output_type": "stream",
     "text": [
      "                            OLS Regression Results                            \n",
      "==============================================================================\n",
      "Dep. Variable:                      y   R-squared:                       0.806\n",
      "Model:                            OLS   Adj. R-squared:                  0.742\n",
      "Method:                 Least Squares   F-statistic:                     12.50\n",
      "Date:                Sat, 08 Jul 2023   Prob (F-statistic):             0.0385\n",
      "Time:                        10:43:31   Log-Likelihood:                -14.503\n",
      "No. Observations:                   5   AIC:                             33.01\n",
      "Df Residuals:                       3   BIC:                             32.22\n",
      "Df Model:                           1                                         \n",
      "Covariance Type:            nonrobust                                         \n",
      "==============================================================================\n",
      "                 coef    std err          t      P>|t|      [0.025      0.975]\n",
      "------------------------------------------------------------------------------\n",
      "const        136.3720     11.976     11.387      0.001      98.259     174.485\n",
      "x1            -3.5061      0.992     -3.535      0.039      -6.663      -0.350\n",
      "==============================================================================\n",
      "Omnibus:                          nan   Durbin-Watson:                   0.811\n",
      "Prob(Omnibus):                    nan   Jarque-Bera (JB):                0.632\n",
      "Skew:                           0.770   Prob(JB):                        0.729\n",
      "Kurtosis:                       2.186   Cond. No.                         57.3\n",
      "==============================================================================\n",
      "\n",
      "Notes:\n",
      "[1] Standard Errors assume that the covariance matrix of the errors is correctly specified.\n"
     ]
    },
    {
     "name": "stderr",
     "output_type": "stream",
     "text": [
      "C:\\Users\\DEEP\\anaconda3\\123\\lib\\site-packages\\statsmodels\\stats\\stattools.py:74: ValueWarning: omni_normtest is not valid with less than 8 observations; 5 samples were given.\n",
      "  warn(\"omni_normtest is not valid with less than 8 observations; %i \"\n"
     ]
    }
   ],
   "source": [
    "import statsmodels.api as sm\n",
    "import numpy as np\n",
    "\n",
    "\n",
    "price = [10, 15, 12, 8, 14]\n",
    "sales = [100, 80, 90, 110, 95]\n",
    "\n",
    "\n",
    "X = sm.add_constant(price)\n",
    "\n",
    "\n",
    "model = sm.OLS(sales, X)\n",
    "results = model.fit()\n",
    "\n",
    "# Print the model summary\n",
    "print(results.summary())\n"
   ]
  },
  {
   "cell_type": "markdown",
   "id": "81b0d5c2",
   "metadata": {},
   "source": [
    "ANS19"
   ]
  },
  {
   "cell_type": "code",
   "execution_count": 23,
   "id": "45d0af51",
   "metadata": {},
   "outputs": [
    {
     "name": "stdout",
     "output_type": "stream",
     "text": [
      "Standard Error of the Mean: 0.30550504633038933\n"
     ]
    }
   ],
   "source": [
    "from scipy import stats\n",
    "import numpy as np\n",
    "\n",
    "# Satisfaction scores data\n",
    "scores = [7, 8, 9, 6, 8, 7, 9, 7, 8, 7]\n",
    "\n",
    "# Calculate the standard error of the mean\n",
    "standard_error = stats.sem(scores)\n",
    "\n",
    "# Print the standard error of the mean\n",
    "print(\"Standard Error of the Mean:\", standard_error)\n"
   ]
  },
  {
   "cell_type": "markdown",
   "id": "e55aac76",
   "metadata": {},
   "source": [
    "ANS20"
   ]
  },
  {
   "cell_type": "code",
   "execution_count": 24,
   "id": "777c5a5f",
   "metadata": {},
   "outputs": [
    {
     "name": "stdout",
     "output_type": "stream",
     "text": [
      "                            OLS Regression Results                            \n",
      "==============================================================================\n",
      "Dep. Variable:                      y   R-squared:                       0.767\n",
      "Model:                            OLS   Adj. R-squared:                  0.689\n",
      "Method:                 Least Squares   F-statistic:                     9.872\n",
      "Date:                Sat, 08 Jul 2023   Prob (F-statistic):             0.0516\n",
      "Time:                        10:45:34   Log-Likelihood:                -9.5288\n",
      "No. Observations:                   5   AIC:                             23.06\n",
      "Df Residuals:                       3   BIC:                             22.28\n",
      "Df Model:                           1                                         \n",
      "Covariance Type:            nonrobust                                         \n",
      "==============================================================================\n",
      "                 coef    std err          t      P>|t|      [0.025      0.975]\n",
      "------------------------------------------------------------------------------\n",
      "const         12.2012      4.429      2.755      0.070      -1.893      26.296\n",
      "x1             1.1524      0.367      3.142      0.052      -0.015       2.320\n",
      "==============================================================================\n",
      "Omnibus:                          nan   Durbin-Watson:                   1.136\n",
      "Prob(Omnibus):                    nan   Jarque-Bera (JB):                0.546\n",
      "Skew:                          -0.267   Prob(JB):                        0.761\n",
      "Kurtosis:                       1.471   Cond. No.                         57.3\n",
      "==============================================================================\n",
      "\n",
      "Notes:\n",
      "[1] Standard Errors assume that the covariance matrix of the errors is correctly specified.\n"
     ]
    },
    {
     "name": "stderr",
     "output_type": "stream",
     "text": [
      "C:\\Users\\DEEP\\anaconda3\\123\\lib\\site-packages\\statsmodels\\stats\\stattools.py:74: ValueWarning: omni_normtest is not valid with less than 8 observations; 5 samples were given.\n",
      "  warn(\"omni_normtest is not valid with less than 8 observations; %i \"\n"
     ]
    }
   ],
   "source": [
    "import statsmodels.api as sm\n",
    "import numpy as np\n",
    "\n",
    "\n",
    "expenditure = [10, 15, 12, 8, 14]\n",
    "sales = [25, 30, 28, 20, 26]\n",
    "\n",
    "\n",
    "X = sm.add_constant(expenditure)\n",
    "\n",
    "\n",
    "model = sm.OLS(sales, X)\n",
    "results = model.fit()\n",
    "\n",
    "# Print the model summary\n",
    "print(results.summary())\n"
   ]
  },
  {
   "cell_type": "code",
   "execution_count": null,
   "id": "b9e5ec0c",
   "metadata": {},
   "outputs": [],
   "source": []
  }
 ],
 "metadata": {
  "kernelspec": {
   "display_name": "Python 3 (ipykernel)",
   "language": "python",
   "name": "python3"
  },
  "language_info": {
   "codemirror_mode": {
    "name": "ipython",
    "version": 3
   },
   "file_extension": ".py",
   "mimetype": "text/x-python",
   "name": "python",
   "nbconvert_exporter": "python",
   "pygments_lexer": "ipython3",
   "version": "3.10.9"
  }
 },
 "nbformat": 4,
 "nbformat_minor": 5
}
